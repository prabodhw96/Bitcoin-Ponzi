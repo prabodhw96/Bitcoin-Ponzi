{
 "cells": [
  {
   "cell_type": "code",
   "execution_count": 2,
   "metadata": {},
   "outputs": [],
   "source": [
    "import numpy as np\n",
    "import pandas as pd\n",
    "import matplotlib.pyplot as plt\n",
    "import seaborn as sns\n",
    "\n",
    "from sklearn.model_selection import train_test_split\n",
    "from sklearn.metrics import accuracy_score, confusion_matrix, roc_curve, auc\n",
    "from sklearn.ensemble import RandomForestClassifier\n",
    "from sklearn.model_selection import GridSearchCV\n",
    "\n",
    "import pandas_profiling"
   ]
  },
  {
   "cell_type": "code",
   "execution_count": 3,
   "metadata": {},
   "outputs": [
    {
     "data": {
      "text/html": [
       "<div>\n",
       "<style scoped>\n",
       "    .dataframe tbody tr th:only-of-type {\n",
       "        vertical-align: middle;\n",
       "    }\n",
       "\n",
       "    .dataframe tbody tr th {\n",
       "        vertical-align: top;\n",
       "    }\n",
       "\n",
       "    .dataframe thead th {\n",
       "        text-align: right;\n",
       "    }\n",
       "</style>\n",
       "<table border=\"1\" class=\"dataframe\">\n",
       "  <thead>\n",
       "    <tr style=\"text-align: right;\">\n",
       "      <th></th>\n",
       "      <th>address</th>\n",
       "      <th>lifetime</th>\n",
       "      <th>most_active_day</th>\n",
       "      <th>activity_days</th>\n",
       "      <th>in_vs_out</th>\n",
       "      <th>num_in</th>\n",
       "      <th>num_out</th>\n",
       "      <th>median_delay</th>\n",
       "      <th>mean_delay</th>\n",
       "      <th>max_delay</th>\n",
       "      <th>min_delay</th>\n",
       "      <th>total_sent</th>\n",
       "      <th>total_recv</th>\n",
       "      <th>avg_out</th>\n",
       "      <th>avg_in</th>\n",
       "      <th>max_diff</th>\n",
       "      <th>addresses_in_out</th>\n",
       "      <th>class</th>\n",
       "    </tr>\n",
       "  </thead>\n",
       "  <tbody>\n",
       "    <tr>\n",
       "      <th>0</th>\n",
       "      <td>15fcEUmKXBiScw2CDwKEre2YE8brvWPxVA</td>\n",
       "      <td>2051098</td>\n",
       "      <td>5</td>\n",
       "      <td>15</td>\n",
       "      <td>33.000000</td>\n",
       "      <td>33</td>\n",
       "      <td>1</td>\n",
       "      <td>165.0</td>\n",
       "      <td>165.00</td>\n",
       "      <td>165</td>\n",
       "      <td>165</td>\n",
       "      <td>0.100000</td>\n",
       "      <td>7.450000</td>\n",
       "      <td>0.100000</td>\n",
       "      <td>0.225758</td>\n",
       "      <td>7.450000</td>\n",
       "      <td>0</td>\n",
       "      <td>0</td>\n",
       "    </tr>\n",
       "    <tr>\n",
       "      <th>1</th>\n",
       "      <td>121E9w1ogmjowDbJmkmCuqqQGztJteR78A</td>\n",
       "      <td>76904856</td>\n",
       "      <td>4</td>\n",
       "      <td>87</td>\n",
       "      <td>2.793103</td>\n",
       "      <td>81</td>\n",
       "      <td>29</td>\n",
       "      <td>29040.0</td>\n",
       "      <td>60882.00</td>\n",
       "      <td>278857</td>\n",
       "      <td>2981</td>\n",
       "      <td>141.577703</td>\n",
       "      <td>141.577703</td>\n",
       "      <td>4.881990</td>\n",
       "      <td>1.747873</td>\n",
       "      <td>141.577703</td>\n",
       "      <td>0</td>\n",
       "      <td>0</td>\n",
       "    </tr>\n",
       "    <tr>\n",
       "      <th>2</th>\n",
       "      <td>12Hd6yd28NXoLuBYwqfncv3J7xXQnKKhGb</td>\n",
       "      <td>178822511</td>\n",
       "      <td>8</td>\n",
       "      <td>118</td>\n",
       "      <td>39.600000</td>\n",
       "      <td>198</td>\n",
       "      <td>5</td>\n",
       "      <td>8595.0</td>\n",
       "      <td>8595.00</td>\n",
       "      <td>8595</td>\n",
       "      <td>8595</td>\n",
       "      <td>10.053716</td>\n",
       "      <td>30.876715</td>\n",
       "      <td>2.010743</td>\n",
       "      <td>0.155943</td>\n",
       "      <td>30.876715</td>\n",
       "      <td>0</td>\n",
       "      <td>0</td>\n",
       "    </tr>\n",
       "    <tr>\n",
       "      <th>3</th>\n",
       "      <td>166uYUb7ogk1xyxSSYQzdXRefdbYJaMTjs</td>\n",
       "      <td>934241</td>\n",
       "      <td>8</td>\n",
       "      <td>10</td>\n",
       "      <td>7.750000</td>\n",
       "      <td>31</td>\n",
       "      <td>4</td>\n",
       "      <td>5365.0</td>\n",
       "      <td>8232.50</td>\n",
       "      <td>22200</td>\n",
       "      <td>0</td>\n",
       "      <td>106.170000</td>\n",
       "      <td>106.170000</td>\n",
       "      <td>26.542500</td>\n",
       "      <td>3.424839</td>\n",
       "      <td>106.170000</td>\n",
       "      <td>0</td>\n",
       "      <td>0</td>\n",
       "    </tr>\n",
       "    <tr>\n",
       "      <th>4</th>\n",
       "      <td>16Zf5yBa2BhitYZMdENxAfkPs244YTG7y4</td>\n",
       "      <td>706251</td>\n",
       "      <td>13</td>\n",
       "      <td>8</td>\n",
       "      <td>1.285714</td>\n",
       "      <td>18</td>\n",
       "      <td>14</td>\n",
       "      <td>2812.0</td>\n",
       "      <td>41064.25</td>\n",
       "      <td>259088</td>\n",
       "      <td>647</td>\n",
       "      <td>330.770000</td>\n",
       "      <td>330.770000</td>\n",
       "      <td>23.626429</td>\n",
       "      <td>18.376111</td>\n",
       "      <td>330.770000</td>\n",
       "      <td>1</td>\n",
       "      <td>0</td>\n",
       "    </tr>\n",
       "  </tbody>\n",
       "</table>\n",
       "</div>"
      ],
      "text/plain": [
       "                              address   lifetime  most_active_day  \\\n",
       "0  15fcEUmKXBiScw2CDwKEre2YE8brvWPxVA    2051098                5   \n",
       "1  121E9w1ogmjowDbJmkmCuqqQGztJteR78A   76904856                4   \n",
       "2  12Hd6yd28NXoLuBYwqfncv3J7xXQnKKhGb  178822511                8   \n",
       "3  166uYUb7ogk1xyxSSYQzdXRefdbYJaMTjs     934241                8   \n",
       "4  16Zf5yBa2BhitYZMdENxAfkPs244YTG7y4     706251               13   \n",
       "\n",
       "   activity_days  in_vs_out  num_in  num_out  median_delay  mean_delay  \\\n",
       "0             15  33.000000      33        1         165.0      165.00   \n",
       "1             87   2.793103      81       29       29040.0    60882.00   \n",
       "2            118  39.600000     198        5        8595.0     8595.00   \n",
       "3             10   7.750000      31        4        5365.0     8232.50   \n",
       "4              8   1.285714      18       14        2812.0    41064.25   \n",
       "\n",
       "   max_delay  min_delay  total_sent  total_recv    avg_out     avg_in  \\\n",
       "0        165        165    0.100000    7.450000   0.100000   0.225758   \n",
       "1     278857       2981  141.577703  141.577703   4.881990   1.747873   \n",
       "2       8595       8595   10.053716   30.876715   2.010743   0.155943   \n",
       "3      22200          0  106.170000  106.170000  26.542500   3.424839   \n",
       "4     259088        647  330.770000  330.770000  23.626429  18.376111   \n",
       "\n",
       "     max_diff  addresses_in_out  class  \n",
       "0    7.450000                 0      0  \n",
       "1  141.577703                 0      0  \n",
       "2   30.876715                 0      0  \n",
       "3  106.170000                 0      0  \n",
       "4  330.770000                 1      0  "
      ]
     },
     "execution_count": 3,
     "metadata": {},
     "output_type": "execute_result"
    }
   ],
   "source": [
    "df = pd.read_csv(\"final_aggregated_dataset.csv\")\n",
    "df.head()"
   ]
  },
  {
   "cell_type": "code",
   "execution_count": 4,
   "metadata": {},
   "outputs": [
    {
     "name": "stdout",
     "output_type": "stream",
     "text": [
      "<class 'pandas.core.frame.DataFrame'>\n",
      "RangeIndex: 2299 entries, 0 to 2298\n",
      "Data columns (total 18 columns):\n",
      "address             2299 non-null object\n",
      "lifetime            2299 non-null int64\n",
      "most_active_day     2299 non-null int64\n",
      "activity_days       2299 non-null int64\n",
      "in_vs_out           2299 non-null float64\n",
      "num_in              2299 non-null int64\n",
      "num_out             2299 non-null int64\n",
      "median_delay        2299 non-null float64\n",
      "mean_delay          2299 non-null float64\n",
      "max_delay           2299 non-null int64\n",
      "min_delay           2299 non-null int64\n",
      "total_sent          2299 non-null float64\n",
      "total_recv          2299 non-null float64\n",
      "avg_out             2299 non-null float64\n",
      "avg_in              2299 non-null float64\n",
      "max_diff            2299 non-null float64\n",
      "addresses_in_out    2299 non-null int64\n",
      "class               2299 non-null int64\n",
      "dtypes: float64(8), int64(9), object(1)\n",
      "memory usage: 323.4+ KB\n"
     ]
    }
   ],
   "source": [
    "df.info()"
   ]
  },
  {
   "cell_type": "code",
   "execution_count": 5,
   "metadata": {},
   "outputs": [
    {
     "data": {
      "text/plain": [
       "0    2222\n",
       "1      77\n",
       "Name: class, dtype: int64"
      ]
     },
     "execution_count": 5,
     "metadata": {},
     "output_type": "execute_result"
    }
   ],
   "source": [
    "df[\"class\"].value_counts()"
   ]
  },
  {
   "cell_type": "code",
   "execution_count": 7,
   "metadata": {},
   "outputs": [],
   "source": [
    "profile = pandas_profiling.ProfileReport(df.select_dtypes(exclude=['object']))\n",
    "profile.to_file(output_file=\"profile.html\")"
   ]
  },
  {
   "cell_type": "code",
   "execution_count": 8,
   "metadata": {},
   "outputs": [],
   "source": [
    "X = df.drop(columns={\"address\", \"class\", \"min_delay\",\"mean_delay\", \"median_delay\"})\n",
    "y = df[\"class\"]\n",
    "X_train, X_test, y_train, y_test = train_test_split(X, y, test_size=0.8, random_state=0, stratify=y)"
   ]
  },
  {
   "cell_type": "code",
   "execution_count": 9,
   "metadata": {},
   "outputs": [
    {
     "data": {
      "text/plain": [
       "RandomForestClassifier(bootstrap=True, class_weight=None, criterion='gini',\n",
       "            max_depth=None, max_features='auto', max_leaf_nodes=None,\n",
       "            min_impurity_decrease=0.0, min_impurity_split=None,\n",
       "            min_samples_leaf=1, min_samples_split=2,\n",
       "            min_weight_fraction_leaf=0.0, n_estimators=10, n_jobs=1,\n",
       "            oob_score=False, random_state=None, verbose=0,\n",
       "            warm_start=False)"
      ]
     },
     "execution_count": 9,
     "metadata": {},
     "output_type": "execute_result"
    }
   ],
   "source": [
    "clf = RandomForestClassifier()\n",
    "clf.fit(X_train, y_train)"
   ]
  },
  {
   "cell_type": "code",
   "execution_count": 10,
   "metadata": {},
   "outputs": [
    {
     "data": {
      "image/png": "[encoded data removed]",
      "text/plain": [
       "<Figure size 432x288 with 1 Axes>"
      ]
     },
     "metadata": {},
     "output_type": "display_data"
    }
   ],
   "source": [
    "features = X_train.columns\n",
    "importances = clf.feature_importances_\n",
    "indices = np.argsort(importances)\n",
    "\n",
    "plt.title('Feature Importances')\n",
    "plt.barh(range(len(indices)), importances[indices], color='b', align='center')\n",
    "plt.yticks(range(len(indices)), [features[i] for i in indices])\n",
    "plt.xlabel('Relative Importance')\n",
    "plt.show()"
   ]
  },
  {
   "cell_type": "code",
   "execution_count": null,
   "metadata": {},
   "outputs": [],
   "source": []
  }
 ],
 "metadata": {
  "kernelspec": {
   "display_name": "Python 3",
   "language": "python",
   "name": "python3"
  },
  "language_info": {
   "codemirror_mode": {
    "name": "ipython",
    "version": 3
   },
   "file_extension": ".py",
   "mimetype": "text/x-python",
   "name": "python",
   "nbconvert_exporter": "python",
   "pygments_lexer": "ipython3",
   "version": "3.5.4"
  }
 },
 "nbformat": 4,
 "nbformat_minor": 2
}
